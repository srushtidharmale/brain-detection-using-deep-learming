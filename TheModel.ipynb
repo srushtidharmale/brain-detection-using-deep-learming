{
  "nbformat": 4,
  "nbformat_minor": 0,
  "metadata": {
    "kernelspec": {
      "display_name": "Python 3.7.4 64-bit ('base': conda)",
      "language": "python",
      "name": "python37464bitbaseconda1b7c0a7557a44c1889c24da40cfb8365"
    },
    "language_info": {
      "codemirror_mode": {
        "name": "ipython",
        "version": 3
      },
      "file_extension": ".py",
      "mimetype": "text/x-python",
      "name": "python",
      "nbconvert_exporter": "python",
      "pygments_lexer": "ipython3",
      "version": "3.7.4"
    },
    "colab": {
      "name": "Copy of TIP.ipynb",
      "provenance": [],
      "collapsed_sections": []
    },
    "accelerator": "GPU"
  },
  "cells": [
    {
      "cell_type": "code",
      "metadata": {
        "id": "4WmNMMqiUubS",
        "colab_type": "code",
        "colab": {}
      },
      "source": [
        "import os\n",
        "import numpy as np\n",
        "import matplotlib.pyplot as plt\n",
        "import h5py\n",
        "import cv2"
      ],
      "execution_count": null,
      "outputs": []
    },
    {
      "cell_type": "markdown",
      "metadata": {
        "id": "-SLRMNuAsn7h",
        "colab_type": "text"
      },
      "source": [
        ""
      ]
    },
    {
      "cell_type": "code",
      "metadata": {
        "id": "-Q_DdJygOC_t",
        "colab_type": "code",
        "colab": {
          "base_uri": "https://localhost:8080/",
          "height": 125
        },
        "outputId": "7ab8d810-149f-42ad-8e40-afb8a73044aa"
      },
      "source": [
        "from google.colab import drive\n",
        "drive.mount('/content/drive')"
      ],
      "execution_count": null,
      "outputs": [
        {
          "output_type": "stream",
          "text": [
            "Go to this URL in a browser: https://accounts.google.com/o/oauth2/auth?client_id=947318989803-6bn6qk8qdgf4n4g3pfee6491hc0brc4i.apps.googleusercontent.com&redirect_uri=urn%3aietf%3awg%3aoauth%3a2.0%3aoob&response_type=code&scope=email%20https%3a%2f%2fwww.googleapis.com%2fauth%2fdocs.test%20https%3a%2f%2fwww.googleapis.com%2fauth%2fdrive%20https%3a%2f%2fwww.googleapis.com%2fauth%2fdrive.photos.readonly%20https%3a%2f%2fwww.googleapis.com%2fauth%2fpeopleapi.readonly\n",
            "\n",
            "Enter your authorization code:\n",
            "··········\n",
            "Mounted at /content/drive\n"
          ],
          "name": "stdout"
        }
      ]
    },
    {
      "cell_type": "code",
      "metadata": {
        "id": "PXPd50RvUubb",
        "colab_type": "code",
        "colab": {}
      },
      "source": [
        "#Converting all the data into Python list\n",
        "datadir=\"/content/drive/My Drive/Dataset\"\n",
        "N=3064\n",
        "traindata=[]\n",
        "\n",
        "for i in range(1,N+1):\n",
        "    filename=str(i)+\".mat\"\n",
        "    data=h5py.File(os.path.join(datadir,filename),\"r\")\n",
        "    traindata.append(data)\n",
        "\n",
        "    if i%100==0:\n",
        "      print(filename)"
      ],
      "execution_count": null,
      "outputs": []
    },
    {
      "cell_type": "code",
      "metadata": {
        "id": "ddKDyINI0bMS",
        "colab_type": "code",
        "colab": {
          "base_uri": "https://localhost:8080/",
          "height": 34
        },
        "outputId": "5f1df786-b273-43e7-8b94-bfd254bf847a"
      },
      "source": [
        "print(traindata[0])"
      ],
      "execution_count": null,
      "outputs": [
        {
          "output_type": "stream",
          "text": [
            "<HDF5 file \"1.mat\" (mode r)>\n"
          ],
          "name": "stdout"
        }
      ]
    },
    {
      "cell_type": "code",
      "metadata": {
        "id": "btuc3CQBy8nD",
        "colab_type": "code",
        "colab": {
          "base_uri": "https://localhost:8080/",
          "height": 195
        },
        "outputId": "4991f76e-cbe8-4c9c-d8fb-e5ebb031aa5a"
      },
      "source": [
        "import random\n",
        "\n",
        "random.shuffle(traindata)"
      ],
      "execution_count": null,
      "outputs": [
        {
          "output_type": "error",
          "ename": "NameError",
          "evalue": "ignored",
          "traceback": [
            "\u001b[0;31m---------------------------------------------------------------------------\u001b[0m",
            "\u001b[0;31mNameError\u001b[0m                                 Traceback (most recent call last)",
            "\u001b[0;32m<ipython-input-4-dc20b3a1a92b>\u001b[0m in \u001b[0;36m<module>\u001b[0;34m()\u001b[0m\n\u001b[1;32m      1\u001b[0m \u001b[0;32mimport\u001b[0m \u001b[0mrandom\u001b[0m\u001b[0;34m\u001b[0m\u001b[0;34m\u001b[0m\u001b[0m\n\u001b[1;32m      2\u001b[0m \u001b[0;34m\u001b[0m\u001b[0m\n\u001b[0;32m----> 3\u001b[0;31m \u001b[0mrandom\u001b[0m\u001b[0;34m.\u001b[0m\u001b[0mshuffle\u001b[0m\u001b[0;34m(\u001b[0m\u001b[0mtraindata\u001b[0m\u001b[0;34m)\u001b[0m\u001b[0;34m\u001b[0m\u001b[0;34m\u001b[0m\u001b[0m\n\u001b[0m",
            "\u001b[0;31mNameError\u001b[0m: name 'traindata' is not defined"
          ]
        }
      ]
    },
    {
      "cell_type": "code",
      "metadata": {
        "scrolled": true,
        "id": "_NnThiOzUubh",
        "colab_type": "code",
        "colab": {
          "base_uri": "https://localhost:8080/",
          "height": 229
        },
        "outputId": "f814f066-25e8-47ef-829b-8c9c1b972ea7"
      },
      "source": [
        "#Extracting image data from Python List\n",
        "trainx=[]\n",
        "testx=[]\n",
        "trainy=[]\n",
        "testy=[]\n",
        "\n",
        "temp=round(4*N/5)  #using 4/5th of the data as training data\n",
        "\n",
        "#training data loop (trainx,trainy)\n",
        "for i in range(temp):\n",
        "    image=traindata[i][\"cjdata\"][\"image\"].value\n",
        "\n",
        "    if image.shape==(512,512):\n",
        "        image=np.expand_dims(image,axis=0)\n",
        "        trainx.append(image)\n",
        "        \n",
        "        label=int(traindata[i][\"cjdata\"][\"label\"].value)-1\n",
        "        trainy.append(label)\n",
        "\n",
        "#testx and testy\n",
        "for i in range(temp,N):\n",
        "    image=np.asarray(traindata[i][\"cjdata\"][\"image\"].value)\n",
        "    \n",
        "    if image.shape==(512,512):\n",
        "        image=np.expand_dims(image,axis=0)\n",
        "        testx.append(image)\n",
        "        \n",
        "        label=int(traindata[i][\"cjdata\"][\"label\"].value)-1\n",
        "        testy.append(label)\n",
        "\n"
      ],
      "execution_count": null,
      "outputs": [
        {
          "output_type": "error",
          "ename": "NameError",
          "evalue": "ignored",
          "traceback": [
            "\u001b[0;31m---------------------------------------------------------------------------\u001b[0m",
            "\u001b[0;31mNameError\u001b[0m                                 Traceback (most recent call last)",
            "\u001b[0;32m<ipython-input-3-07dcfb820981>\u001b[0m in \u001b[0;36m<module>\u001b[0;34m()\u001b[0m\n\u001b[1;32m      5\u001b[0m \u001b[0mtesty\u001b[0m\u001b[0;34m=\u001b[0m\u001b[0;34m[\u001b[0m\u001b[0;34m]\u001b[0m\u001b[0;34m\u001b[0m\u001b[0;34m\u001b[0m\u001b[0m\n\u001b[1;32m      6\u001b[0m \u001b[0;34m\u001b[0m\u001b[0m\n\u001b[0;32m----> 7\u001b[0;31m \u001b[0mtemp\u001b[0m\u001b[0;34m=\u001b[0m\u001b[0mround\u001b[0m\u001b[0;34m(\u001b[0m\u001b[0;36m4\u001b[0m\u001b[0;34m*\u001b[0m\u001b[0mN\u001b[0m\u001b[0;34m/\u001b[0m\u001b[0;36m5\u001b[0m\u001b[0;34m)\u001b[0m  \u001b[0;31m#using 4/5th of the data as training data\u001b[0m\u001b[0;34m\u001b[0m\u001b[0;34m\u001b[0m\u001b[0m\n\u001b[0m\u001b[1;32m      8\u001b[0m \u001b[0;34m\u001b[0m\u001b[0m\n\u001b[1;32m      9\u001b[0m \u001b[0;31m#training data loop (trainx,trainy)\u001b[0m\u001b[0;34m\u001b[0m\u001b[0;34m\u001b[0m\u001b[0;34m\u001b[0m\u001b[0m\n",
            "\u001b[0;31mNameError\u001b[0m: name 'N' is not defined"
          ]
        }
      ]
    },
    {
      "cell_type": "code",
      "metadata": {
        "id": "dIs7iQqCUubl",
        "colab_type": "code",
        "colab": {}
      },
      "source": [
        "#Converting X list to numpy array #sentdexyoutube dogcats\n",
        "trainx=np.array(trainx).reshape(-1,512,512,1)\n",
        "testx=np.array(testx).reshape(-1,512,512,1)"
      ],
      "execution_count": null,
      "outputs": []
    },
    {
      "cell_type": "code",
      "metadata": {
        "id": "ON7xo5MzUubu",
        "colab_type": "code",
        "colab": {}
      },
      "source": [
        "#Converting Y list to numpy array\n",
        "trainy=np.array(trainy)\n",
        "testy=np.array(testy)"
      ],
      "execution_count": null,
      "outputs": []
    },
    {
      "cell_type": "code",
      "metadata": {
        "id": "p23IYTUkksGZ",
        "colab_type": "code",
        "colab": {}
      },
      "source": [
        "#Saving data as a pickle file (unnecessary step)\n",
        "import pickle\n",
        "braindata=[trainx,trainy,testx,testy]\n",
        "\n",
        "with open(\"newbraindata.pickle\",\"wb\") as file:\n",
        "  pickle.dump(braindata,file)"
      ],
      "execution_count": null,
      "outputs": []
    },
    {
      "cell_type": "code",
      "metadata": {
        "id": "WCkHM4nUlcUU",
        "colab_type": "code",
        "colab": {}
      },
      "source": [
        "#Loading data from pickle file (unnecesary step if data has been fectched from drive)\n",
        "import pickle\n",
        "pickledir=\"/content/drive/My Drive/newbraindata.pickle\"\n",
        "trainx,trainy,testx,testy=pickle.load(open(pickledir,\"rb\"))"
      ],
      "execution_count": null,
      "outputs": []
    },
    {
      "cell_type": "code",
      "metadata": {
        "id": "BVMU9sTben6r",
        "colab_type": "code",
        "colab": {}
      },
      "source": [
        "np.random.seed(0)"
      ],
      "execution_count": null,
      "outputs": []
    },
    {
      "cell_type": "code",
      "metadata": {
        "id": "ymg-bS_uUub9",
        "colab_type": "code",
        "colab": {}
      },
      "source": [
        "#Model building starts\n",
        "import tensorflow as tf\n",
        "from tensorflow import keras\n",
        "from tensorflow.keras import layers\n",
        "\n",
        "tf.keras.backend.clear_session()"
      ],
      "execution_count": null,
      "outputs": []
    },
    {
      "cell_type": "code",
      "metadata": {
        "id": "wc-HKbI2UucX",
        "colab_type": "code",
        "colab": {
          "base_uri": "https://localhost:8080/",
          "height": 738
        },
        "outputId": "99015a61-6f53-46be-9717-6da4203c66c1"
      },
      "source": [
        "#Initial  BLock of the model\n",
        "ini_input=keras.Input(shape=(512,512,1),name=\"image\")\n",
        "\n",
        "x1=layers.Conv2D(64,(22,22),strides=2)(ini_input)\n",
        "x1=layers.MaxPooling2D((4,4))(x1)\n",
        "x1=layers.BatchNormalization()(x1)\n",
        "\n",
        "x2=layers.Conv2D(128,(11,11),strides=2,padding=\"same\")(x1)\n",
        "x2=layers.MaxPooling2D((2,2))(x2)\n",
        "x2=layers.BatchNormalization()(x2)\n",
        "\n",
        "x3=layers.Conv2D(256,(7,7),strides=2,padding=\"same\")(x2)\n",
        "x3=layers.MaxPooling2D((2,2))(x3)\n",
        "x3=layers.BatchNormalization()(x3)\n",
        "\n",
        "x4=layers.Flatten()(x3)\n",
        "x4=layers.Activation(\"relu\")(x4)\n",
        "\n",
        "x5=layers.Dense(1024,\"relu\")(x4)\n",
        "\n",
        "x6=layers.Dense(256,\"relu\")(x5)\n",
        "\n",
        "x9=layers.Dense(3)(x6)\n",
        "pred=layers.Activation(\"softmax\")(x9)\n",
        "\n",
        "model=keras.Model(inputs=ini_input,outputs=pred)\n",
        "\n",
        "model.compile(loss=\"sparse_categorical_crossentropy\",optimizer=\"adam\",metrics=[\"accuracy\"])\n",
        "model.fit(trainx,trainy,epochs=20,batch_size=32,shuffle=False)"
      ],
      "execution_count": null,
      "outputs": [
        {
          "output_type": "stream",
          "text": [
            "Epoch 1/20\n",
            "77/77 [==============================] - 25s 321ms/step - loss: 0.9946 - accuracy: 0.6426\n",
            "Epoch 2/20\n",
            "77/77 [==============================] - 25s 321ms/step - loss: 0.5693 - accuracy: 0.7471\n",
            "Epoch 3/20\n",
            "77/77 [==============================] - 25s 324ms/step - loss: 0.4501 - accuracy: 0.7971\n",
            "Epoch 4/20\n",
            "77/77 [==============================] - 25s 324ms/step - loss: 0.4175 - accuracy: 0.8139\n",
            "Epoch 5/20\n",
            "77/77 [==============================] - 25s 325ms/step - loss: 0.3460 - accuracy: 0.8500\n",
            "Epoch 6/20\n",
            "77/77 [==============================] - 25s 324ms/step - loss: 0.2860 - accuracy: 0.8873\n",
            "Epoch 7/20\n",
            "77/77 [==============================] - 25s 324ms/step - loss: 0.2268 - accuracy: 0.9057\n",
            "Epoch 8/20\n",
            "77/77 [==============================] - 25s 324ms/step - loss: 0.1864 - accuracy: 0.9250\n",
            "Epoch 9/20\n",
            "77/77 [==============================] - 25s 325ms/step - loss: 0.1307 - accuracy: 0.9512\n",
            "Epoch 10/20\n",
            "77/77 [==============================] - 25s 323ms/step - loss: 0.0869 - accuracy: 0.9689\n",
            "Epoch 11/20\n",
            "77/77 [==============================] - 25s 325ms/step - loss: 0.0994 - accuracy: 0.9652\n",
            "Epoch 12/20\n",
            "77/77 [==============================] - 25s 324ms/step - loss: 0.0950 - accuracy: 0.9639\n",
            "Epoch 13/20\n",
            "77/77 [==============================] - 25s 325ms/step - loss: 0.0730 - accuracy: 0.9713\n",
            "Epoch 14/20\n",
            "77/77 [==============================] - 25s 324ms/step - loss: 0.0424 - accuracy: 0.9861\n",
            "Epoch 15/20\n",
            "77/77 [==============================] - 25s 325ms/step - loss: 0.0658 - accuracy: 0.9795\n",
            "Epoch 16/20\n",
            "77/77 [==============================] - 25s 323ms/step - loss: 0.0294 - accuracy: 0.9885\n",
            "Epoch 17/20\n",
            "77/77 [==============================] - 25s 324ms/step - loss: 0.0588 - accuracy: 0.9799\n",
            "Epoch 18/20\n",
            "77/77 [==============================] - 25s 324ms/step - loss: 0.0179 - accuracy: 0.9922\n",
            "Epoch 19/20\n",
            "77/77 [==============================] - 25s 325ms/step - loss: 0.0158 - accuracy: 0.9939\n",
            "Epoch 20/20\n",
            "77/77 [==============================] - 25s 324ms/step - loss: 0.0463 - accuracy: 0.9885\n"
          ],
          "name": "stdout"
        },
        {
          "output_type": "execute_result",
          "data": {
            "text/plain": [
              "<tensorflow.python.keras.callbacks.History at 0x7f4c901df860>"
            ]
          },
          "metadata": {
            "tags": []
          },
          "execution_count": 16
        }
      ]
    },
    {
      "cell_type": "code",
      "metadata": {
        "id": "WRKz-ZoOUucb",
        "colab_type": "code",
        "colab": {
          "base_uri": "https://localhost:8080/",
          "height": 167
        },
        "outputId": "954ea398-2876-443a-eb45-af6f038d23ec"
      },
      "source": [
        "model1=keras.models.save_model(\"CNNforbrainMRI.model\")"
      ],
      "execution_count": null,
      "outputs": [
        {
          "output_type": "error",
          "ename": "NameError",
          "evalue": "ignored",
          "traceback": [
            "\u001b[0;31m---------------------------------------------------------------------------\u001b[0m",
            "\u001b[0;31mNameError\u001b[0m                                 Traceback (most recent call last)",
            "\u001b[0;32m<ipython-input-31-e7317c4531bc>\u001b[0m in \u001b[0;36m<module>\u001b[0;34m()\u001b[0m\n\u001b[0;32m----> 1\u001b[0;31m \u001b[0mmodel1\u001b[0m\u001b[0;34m=\u001b[0m\u001b[0mkeras\u001b[0m\u001b[0;34m.\u001b[0m\u001b[0mmodels\u001b[0m\u001b[0;34m.\u001b[0m\u001b[0msave_model\u001b[0m\u001b[0;34m(\u001b[0m\u001b[0;34m\"CNNforbrainMRI.model\"\u001b[0m\u001b[0;34m)\u001b[0m\u001b[0;34m\u001b[0m\u001b[0;34m\u001b[0m\u001b[0m\n\u001b[0m",
            "\u001b[0;31mNameError\u001b[0m: name 'keras' is not defined"
          ]
        }
      ]
    },
    {
      "cell_type": "code",
      "metadata": {
        "id": "yFOMYNSCUucq",
        "colab_type": "code",
        "colab": {
          "base_uri": "https://localhost:8080/",
          "height": 52
        },
        "outputId": "febe2e7e-8bed-43ec-82c8-0f8082bc2036"
      },
      "source": [
        "result=model.evaluate(testx,testy)\n",
        "print(result)"
      ],
      "execution_count": null,
      "outputs": [
        {
          "output_type": "stream",
          "text": [
            "20/20 [==============================] - 3s 146ms/step - loss: 0.4774 - accuracy: 0.8900\n",
            "[0.4773988425731659, 0.889983594417572]\n"
          ],
          "name": "stdout"
        }
      ]
    },
    {
      "cell_type": "code",
      "metadata": {
        "id": "k5f3ANobdKJU",
        "colab_type": "code",
        "colab": {
          "base_uri": "https://localhost:8080/",
          "height": 140
        },
        "outputId": "c70be0f5-6d61-40d6-c9dd-383f55f7b12b"
      },
      "source": [
        "!zip -r /content/CNNforbrainMRI.zip /content/CNNforbrainMRI.model"
      ],
      "execution_count": null,
      "outputs": [
        {
          "output_type": "stream",
          "text": [
            "  adding: content/CNNforbrainMRI.model/ (stored 0%)\n",
            "  adding: content/CNNforbrainMRI.model/assets/ (stored 0%)\n",
            "  adding: content/CNNforbrainMRI.model/variables/ (stored 0%)\n",
            "  adding: content/CNNforbrainMRI.model/variables/variables.data-00000-of-00002 (deflated 82%)\n",
            "  adding: content/CNNforbrainMRI.model/variables/variables.index (deflated 71%)\n",
            "  adding: content/CNNforbrainMRI.model/variables/variables.data-00001-of-00002 (deflated 17%)\n",
            "  adding: content/CNNforbrainMRI.model/saved_model.pb (deflated 90%)\n"
          ],
          "name": "stdout"
        }
      ]
    },
    {
      "cell_type": "code",
      "metadata": {
        "id": "VqPXcoTNvkc-",
        "colab_type": "code",
        "colab": {
          "base_uri": "https://localhost:8080/",
          "height": 52
        },
        "outputId": "bbe75627-7a6d-47ce-c612-b5bb4bdb98c1"
      },
      "source": [
        "traincount=[0,0,0]\n",
        "testcount=[0,0,0]\n",
        "\n",
        "\n",
        "for i in range(len(trainy)):\n",
        "  temp=trainy[i]\n",
        "  traincount[temp]=traincount[temp]+1\n",
        "\n",
        "for i in range(len(testy)):\n",
        "  temp=testy[i]\n",
        "  testcount[temp]=testcount[temp]+1\n",
        "  \n",
        "print(traincount)\n",
        "print(testcount)"
      ],
      "execution_count": null,
      "outputs": [
        {
          "output_type": "stream",
          "text": [
            "[564, 1147, 729]\n",
            "[144, 279, 186]\n"
          ],
          "name": "stdout"
        }
      ]
    }
  ]
}
